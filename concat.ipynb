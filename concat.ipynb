{
 "cells": [
  {
   "cell_type": "code",
   "execution_count": null,
   "id": "03c9dbdd",
   "metadata": {},
   "outputs": [],
   "source": [
    "import pandas as pd\n",
    "import glob\n",
    "import os\n",
    "import re\n",
    "\n",
    "folder_path =  r\"your path\"\n",
    "\n",
    "# Get all CSV files in the folder\n",
    "all_files = glob.glob(os.path.join(folder_path, \"PRICE_AND_DEMAND_*.csv\"))\n",
    "\n",
    "# Group files by year\n",
    "files_by_year = {}\n",
    "for f in all_files:\n",
    "    basename = os.path.basename(f)\n",
    "    year_match = re.search(r'PRICE_AND_DEMAND_(\\d{4})\\d{2}_', basename)\n",
    "    if year_match:\n",
    "        year = year_match.group(1)\n",
    "        files_by_year.setdefault(year, []).append(f)\n",
    "\n",
    "# Function to concatenate files with region column added\n",
    "def concat_files(file_list):\n",
    "    dfs = []\n",
    "    for f in file_list:\n",
    "        df = pd.read_csv(f)\n",
    "        region_match = re.search(r'_(\\w+)\\.csv$', os.path.basename(f))\n",
    "        if region_match:\n",
    "            df['Region'] = region_match.group(1)\n",
    "        dfs.append(df)\n",
    "    return pd.concat(dfs, ignore_index=True)\n",
    "\n",
    "\n",
    "\n",
    "# Process each year and save to CSV\n",
    "for year, file_list in files_by_year.items():\n",
    "    print(f\"Processing year: {year} with {len(file_list)} files...\")\n",
    "    df_year = concat_files(file_list)\n",
    "    \n",
    "    # Save to a new CSV\n",
    "    output_path = os.path.join(folder_path, f\"PRICE_AND_DEMAND_{year}_ALL.csv\")\n",
    "    df_year.to_csv(output_path, index=False)\n",
    "    \n",
    "    print(f\"Saved: {output_path}\")"
   ]
  }
 ],
 "metadata": {
  "kernelspec": {
   "display_name": "Python 3 (ipykernel)",
   "language": "python",
   "name": "python3"
  },
  "language_info": {
   "codemirror_mode": {
    "name": "ipython",
    "version": 3
   },
   "file_extension": ".py",
   "mimetype": "text/x-python",
   "name": "python",
   "nbconvert_exporter": "python",
   "pygments_lexer": "ipython3",
   "version": "3.9.7"
  }
 },
 "nbformat": 4,
 "nbformat_minor": 5
}
